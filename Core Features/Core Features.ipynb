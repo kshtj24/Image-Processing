{
 "cells": [
  {
   "cell_type": "markdown",
   "metadata": {},
   "source": [
    "# 1. Basic operations on Images"
   ]
  },
  {
   "cell_type": "markdown",
   "metadata": {},
   "source": [
    "### Accessing and modifying pixel values"
   ]
  },
  {
   "cell_type": "markdown",
   "metadata": {},
   "source": [
    "Image processing uses Numpy a lot. Thus, to understand it, a good knowledge of Numpy is recommended."
   ]
  },
  {
   "cell_type": "code",
   "execution_count": null,
   "metadata": {},
   "outputs": [],
   "source": [
    "import cv2\n",
    "import numpy as np\n",
    "\n",
    "my_img = cv2.imread('C:\\\\Users\\\\kshitij.saxena\\\\Desktop\\\\stars.png')\n",
    "\n",
    "#print(my_img)"
   ]
  },
  {
   "cell_type": "markdown",
   "metadata": {},
   "source": [
    "A pixel can be accessed by its row and column coordinates. As in the code above, when we read the image and store it in a variable, the image is saved in the form of a multidimensional array of integers. The print function will print the array if executed.\n",
    "Thus, while accessing the pixels, a BGR image will return an array of Blue, Green and Red values, though a Gray Scale image will just return the corresponding intensities.\n",
    "\n",
    "Pixels can be modified in the same fashion as of an array."
   ]
  },
  {
   "cell_type": "code",
   "execution_count": null,
   "metadata": {},
   "outputs": [],
   "source": [
    "pixl = my_img[10,10]\n",
    "print(pixl)\n",
    "\n",
    "#accessing only red pixel\n",
    "r_pixl = my_img[10,10,2]\n",
    "print(r_pixl)"
   ]
  },
  {
   "cell_type": "code",
   "execution_count": null,
   "metadata": {},
   "outputs": [],
   "source": [
    "#Code to change the pixels in an image to form a diagonal line of 1px thickness and then display the image\n",
    "import cv2\n",
    "import numpy as np\n",
    "\n",
    "white_bg = cv2.imread('C:\\\\Users\\\\kshitij.saxena\\\\Desktop\\\\white_bg.bmp')\n",
    "for i in range(0,706):\n",
    "    white_bg[i,i] = [0,0,0]\n",
    "\n",
    "cv2.imshow('frame',white_bg)\n",
    "cv2.waitKey(0)\n",
    "cv2.destroyAllWindows()"
   ]
  },
  {
   "cell_type": "code",
   "execution_count": null,
   "metadata": {},
   "outputs": [],
   "source": [
    "print(my_img.size) #image size ie the total number of pixels in the image\n",
    "print(my_img.shape) #image shape, if the image is gray scale, the tuple returned will contain only number of rows and columns\n",
    "print(my_img.dtype) #image datatype"
   ]
  }
 ],
 "metadata": {
  "kernelspec": {
   "display_name": "Python 3",
   "language": "python",
   "name": "python3"
  },
  "language_info": {
   "codemirror_mode": {
    "name": "ipython",
    "version": 3
   },
   "file_extension": ".py",
   "mimetype": "text/x-python",
   "name": "python",
   "nbconvert_exporter": "python",
   "pygments_lexer": "ipython3",
   "version": "3.6.4"
  }
 },
 "nbformat": 4,
 "nbformat_minor": 2
}
