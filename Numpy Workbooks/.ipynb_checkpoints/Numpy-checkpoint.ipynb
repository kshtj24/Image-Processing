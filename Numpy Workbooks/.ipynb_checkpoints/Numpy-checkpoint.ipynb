{
 "cells": [
  {
   "cell_type": "markdown",
   "metadata": {},
   "source": [
    "# Basics"
   ]
  },
  {
   "cell_type": "markdown",
   "metadata": {},
   "source": [
    "Numpy's main object is a homogeneuos multidimensional array. It is a table of elements. In numpy *dimensions are called axes*. Its array class is called *ndarray*.\n",
    "numpy.array is different than array.array of Python. The latter class handles only one dimensional arrays and that too not very efficiently.\n",
    "\n",
    "Important attributes of an ndarray are :\n",
    "* **ndarray.ndim** - number of dimensions of the array.\n",
    "* **ndarray.shape** - the dimensions of the array. This is a tuple of integers each of which denotes the size of each dimension of the array.\n",
    "* **ndarray.size** - the total number of elements in the array. Equals to the product of elements in shape.\n",
    "* **ndarray.dtype** - an object describing the type of the elements in the array. \n",
    "* **ndarray.itemsize** - the size in bytes of each element of the array.\n",
    "* **ndarray.data** - the buffer containing actual elements of the array."
   ]
  },
  {
   "cell_type": "code",
   "execution_count": 2,
   "metadata": {},
   "outputs": [],
   "source": [
    "import numpy as np"
   ]
  },
  {
   "cell_type": "code",
   "execution_count": 13,
   "metadata": {},
   "outputs": [
    {
     "name": "stdout",
     "output_type": "stream",
     "text": [
      "[[[ 0  1  2]\n",
      "  [ 3  4  5]]\n",
      "\n",
      " [[ 6  7  8]\n",
      "  [ 9 10 11]]\n",
      "\n",
      " [[12 13 14]\n",
      "  [15 16 17]]\n",
      "\n",
      " [[18 19 20]\n",
      "  [21 22 23]]\n",
      "\n",
      " [[24 25 26]\n",
      "  [27 28 29]]]\n"
     ]
    }
   ],
   "source": [
    "#creating a numpy array of 30 consecutive numbers from 0 to 30 of dimension 5x2x3 and printing it\n",
    "nparr = np.arange(30).reshape(5,2,3)\n",
    "print(nparr)"
   ]
  },
  {
   "cell_type": "code",
   "execution_count": 20,
   "metadata": {},
   "outputs": [
    {
     "name": "stdout",
     "output_type": "stream",
     "text": [
      "Array type - <class 'numpy.ndarray'>\n",
      "Dimensions - 3\n",
      "Array Shape - (5, 2, 3)\n",
      "Array Size - 30\n",
      "Data Type - int32\n",
      "Item size - 4\n",
      "Data Buffer - <memory at 0x000002660028BD68>\n"
     ]
    }
   ],
   "source": [
    "#printing the basic details of nparr\n",
    "print(f\"Array type - {type(nparr)}\")\n",
    "print(f\"Dimensions - {nparr.ndim}\")\n",
    "print(f\"Array Shape - {nparr.shape}\")\n",
    "print(f\"Array Size - {nparr.size}\")\n",
    "print(f\"Data Type - {nparr.dtype}\")\n",
    "print(f\"Item size - {nparr.itemsize}\")\n",
    "print(f\"Data Buffer - {nparr.data}\")"
   ]
  },
  {
   "cell_type": "code",
   "execution_count": null,
   "metadata": {},
   "outputs": [],
   "source": []
  }
 ],
 "metadata": {
  "kernelspec": {
   "display_name": "Python 3",
   "language": "python",
   "name": "python3"
  },
  "language_info": {
   "codemirror_mode": {
    "name": "ipython",
    "version": 3
   },
   "file_extension": ".py",
   "mimetype": "text/x-python",
   "name": "python",
   "nbconvert_exporter": "python",
   "pygments_lexer": "ipython3",
   "version": "3.6.4"
  }
 },
 "nbformat": 4,
 "nbformat_minor": 2
}
