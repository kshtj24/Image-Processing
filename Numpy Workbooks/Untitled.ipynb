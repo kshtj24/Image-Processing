{
 "cells": [
  {
   "cell_type": "markdown",
   "metadata": {},
   "source": [
    "# Basics"
   ]
  },
  {
   "cell_type": "markdown",
   "metadata": {},
   "source": [
    "Numpy's main object is a homogeneuos multidimensional array. It is a table of elements. In numpy *dimensions are called axes*. Its array class is called *ndarray*.\n",
    "numpy.array is different than array.array of Python. The latter class handles only one dimensional arrays and that too no very efficiently.\n",
    "\n",
    "Important attributes of an ndarray are :\n",
    "* **ndarray.ndim** - number of dimensions of the array.\n",
    "* **ndarray.shape** - the dimensions of the array. This is a tuple of integers each of which denotes the size of each dimension of the array"
   ]
  },
  {
   "cell_type": "code",
   "execution_count": null,
   "metadata": {},
   "outputs": [],
   "source": [
    "import numpy as np"
   ]
  },
  {
   "cell_type": "code",
   "execution_count": null,
   "metadata": {},
   "outputs": [],
   "source": []
  }
 ],
 "metadata": {
  "kernelspec": {
   "display_name": "Python 3",
   "language": "python",
   "name": "python3"
  }
 },
 "nbformat": 4,
 "nbformat_minor": 2
}
