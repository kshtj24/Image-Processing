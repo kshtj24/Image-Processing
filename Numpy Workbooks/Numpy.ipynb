{
 "cells": [
  {
   "cell_type": "markdown",
   "metadata": {},
   "source": [
    "# Basics"
   ]
  },
  {
   "cell_type": "markdown",
   "metadata": {},
   "source": [
    "Numpy's main object is a homogeneuos multidimensional array. It is a table of elements. In numpy *dimensions are called axes*. Its array class is called *ndarray*.\n",
    "numpy.array is different than array.array of Python. The latter class handles only one dimensional arrays and that too not very efficiently.\n",
    "\n",
    "Important attributes of an ndarray are :\n",
    "* **ndarray.ndim** - number of dimensions of the array.\n",
    "* **ndarray.shape** - the dimensions of the array. This is a tuple of integers each of which denotes the size of each dimension of the array.\n",
    "* **ndarray.size** - the total number of elements in the array. Equals to the product of elements in shape.\n",
    "* **ndarray.dtype** - an object describing the type of the elements in the array. \n",
    "* **ndarray.itemsize** - the size in bytes of each element of the array.\n",
    "* **ndarray.data** - the buffer containing actual elements of the array."
   ]
  },
  {
   "cell_type": "code",
   "execution_count": null,
   "metadata": {},
   "outputs": [],
   "source": [
    "import numpy as np"
   ]
  },
  {
   "cell_type": "code",
   "execution_count": null,
   "metadata": {},
   "outputs": [],
   "source": [
    "#creating a numpy array of 30 consecutive numbers from 0 to 30 of dimension 5x2x3 and printing it\n",
    "nparr = np.arange(30).reshape(5,2,3)\n",
    "print(nparr)"
   ]
  },
  {
   "cell_type": "code",
   "execution_count": null,
   "metadata": {},
   "outputs": [],
   "source": [
    "#printing the basic details of nparr\n",
    "print(f\"Array type - {type(nparr)}\")\n",
    "print(f\"Dimensions - {nparr.ndim}\")\n",
    "print(f\"Array Shape - {nparr.shape}\")\n",
    "print(f\"Array Size - {nparr.size}\")\n",
    "print(f\"Data Type - {nparr.dtype}\")\n",
    "print(f\"Item size - {nparr.itemsize}\")\n",
    "print(f\"Data Buffer - {nparr.data}\")"
   ]
  },
  {
   "cell_type": "code",
   "execution_count": null,
   "metadata": {},
   "outputs": [],
   "source": []
  }
 ],
 "metadata": {
  "kernelspec": {
   "display_name": "Python 3",
   "language": "python",
   "name": "python3"
  },
  "language_info": {
   "codemirror_mode": {
    "name": "ipython",
    "version": 3
   },
   "file_extension": ".py",
   "mimetype": "text/x-python",
   "name": "python",
   "nbconvert_exporter": "python",
   "pygments_lexer": "ipython3",
   "version": "3.6.4"
  }
 },
 "nbformat": 4,
 "nbformat_minor": 2
}
