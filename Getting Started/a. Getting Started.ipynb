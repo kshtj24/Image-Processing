{
 "cells": [
  {
   "cell_type": "markdown",
   "metadata": {},
   "source": [
    "### Reading an image using Open CV\n",
    "Open cv library defines **imread()** for reading the images saved on the disk. It usually takes two arguments. First is Image path, where the image should be in the working directory or the full qualified name of the path should be provided. Second argument is the flag which which specifies the way image should be read. The flags are ***IMREAD_COLOR (default), IMREAD_GRAYSCALE and IMREAD_UNCHANGED***, the flags are integer values, so instead of passing the name only 1,0 or -1 can be passsed respectively."
   ]
  },
  {
   "cell_type": "code",
   "execution_count": 1,
   "metadata": {},
   "outputs": [],
   "source": [
    "#necessary imports\n",
    "import cv2\n",
    "import numpy as np"
   ]
  },
  {
   "cell_type": "code",
   "execution_count": 2,
   "metadata": {},
   "outputs": [],
   "source": [
    "#loading the image in default format ie IMREAD_COLOR\n",
    "my_img = cv2.imread(\"C:\\\\Users\\\\kshitij.saxena\\\\Desktop\\\\stars.png\",cv2.IMREAD_GRAYSCALE)\n",
    "\n",
    "#if the image is not found in the defined directory, there won't be any error. But the my_img variable will result in 'null'"
   ]
  },
  {
   "cell_type": "markdown",
   "metadata": {},
   "source": [
    "### Displaying an image using Open CV\n",
    "**imshow()** method will display the image in a window. Window automatically fits to the image size. It takes two arguments, first argument is the name of the Window displaying the image(string type) and second argument will be the image itself.\n",
    "\n",
    "**waitKey()** is a keyboard binding function. Its argument is the time in milliseconds.\n",
    "\n",
    "**destroyAllWindows()** simply destroys all the windows we created."
   ]
  },
  {
   "cell_type": "code",
   "execution_count": 3,
   "metadata": {},
   "outputs": [],
   "source": [
    "cv2.imshow('My image',my_img)\n",
    "cv2.waitKey(0) #passing 0 as the argument will make the waitKey method to wait indefinitely\n",
    "cv2.destroyAllWindows()"
   ]
  },
  {
   "cell_type": "markdown",
   "metadata": {},
   "source": [
    "There might a case where we may need to create the window first and then load the image later sometime. For that purpose we can use **namedWindow()** method which takes the name of the window and a flag as an argument. The flag can either be ***WINDOW_AUTOSIZE*** or ***WINDOW_NORMAL***. In the latter case the window will be resizable."
   ]
  },
  {
   "cell_type": "markdown",
   "metadata": {},
   "source": [
    "### Wrinting an image using Open CV\n",
    "To save an image we can use **imwrite()** method. It takes the file name to be saved as and the image file itself as the arguments."
   ]
  },
  {
   "cell_type": "code",
   "execution_count": 4,
   "metadata": {},
   "outputs": [
    {
     "data": {
      "text/plain": [
       "True"
      ]
     },
     "execution_count": 4,
     "metadata": {},
     "output_type": "execute_result"
    }
   ],
   "source": [
    "cv2.imwrite('C:\\\\Users\\\\kshitij.saxena\\\\Desktop\\\\my_first_img.png',my_img)"
   ]
  }
 ],
 "metadata": {
  "kernelspec": {
   "display_name": "Python 3",
   "language": "python",
   "name": "python3"
  },
  "language_info": {
   "codemirror_mode": {
    "name": "ipython",
    "version": 3
   },
   "file_extension": ".py",
   "mimetype": "text/x-python",
   "name": "python",
   "nbconvert_exporter": "python",
   "pygments_lexer": "ipython3",
   "version": "3.6.4"
  }
 },
 "nbformat": 4,
 "nbformat_minor": 2
}
